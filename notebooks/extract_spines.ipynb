{
 "cells": [
  {
   "cell_type": "code",
   "id": "initial_id",
   "metadata": {
    "collapsed": true,
    "ExecuteTime": {
     "end_time": "2025-02-10T17:38:39.180113Z",
     "start_time": "2025-02-10T17:38:39.147930Z"
    }
   },
   "source": [
    "import UnityPy\n",
    "from extractors import extract_spine\n",
    "\n",
    "UnityPy.set_assetbundle_decrypt_key('y5XPvqLOrCokWRIa')"
   ],
   "outputs": [],
   "execution_count": 5
  },
  {
   "metadata": {
    "ExecuteTime": {
     "end_time": "2025-02-10T17:35:34.441173Z",
     "start_time": "2025-02-10T17:35:26.025718Z"
    }
   },
   "cell_type": "code",
   "source": "env = UnityPy.Environment('assets')",
   "id": "95181dd1eb53c856",
   "outputs": [],
   "execution_count": 3
  },
  {
   "metadata": {
    "ExecuteTime": {
     "end_time": "2025-02-10T17:39:38.163889Z",
     "start_time": "2025-02-10T17:39:30.826147Z"
    }
   },
   "cell_type": "code",
   "source": [
    "all_prefabs = {k: v for k,v in env.container.items() if k.endswith('.prefab')}\n",
    "for k,v  in all_prefabs.items():\n",
    "    print(f\"--- {k} ---\")\n",
    "    extract_spine(k, v.read(), 'output')\n",
    "    print()"
   ],
   "id": "d7bb87448d33e91c",
   "outputs": [
    {
     "name": "stdout",
     "output_type": "stream",
     "text": [
      "--- assets/product/ui/spine/activityspinelogin.prefab ---\n",
      "Spine(niera_mainart_yoko position=(0.0, 0.0) size=(1920, 1080) scale=0.6 anchor=(0.5, 0.5) order=-10 tf=-7295329103643270343)\n",
      "-> found global scale 0.6 at path {-7295329103643270343}\n",
      "\n",
      "--- assets/product/ui/spine/kuang.prefab ---\n",
      "-> found global scale 1.0 at path {-7590825753680192286}\n",
      "-> No spines found\n",
      "\n",
      "--- assets/product/ui/spine/spinelogin.prefab ---\n",
      "Spine(SailingnaLoginV32Bg position=(0.0, 0.0) size=None scale=0.37599998474121094 anchor=(0.5, 0.5) order=-8 tf=-9220651927753805824)\n",
      "Spine(SailingnaLoginV32Role position=(0.0, 0.0) size=None scale=0.375 anchor=(0.5, 0.5) order=-5 tf=-9039429175344730903)\n",
      "Spine(SailingnaLoginV32Fn position=(0.0, 0.0) size=None scale=0.375 anchor=(0.5, 0.5) order=-2 tf=4848372465153077483)\n",
      "-> found global scale 1.0 at path {9135364299718720055}\n",
      "\n",
      "--- assets/product/ui/spine/uilivwarmactivityvinylspine/uilivwarmactivityvinylspine.prefab ---\n",
      "Spine(UiLivWarmActivityVinylSpine position=(0.0, 0.0) size=None scale=1.0 anchor=(0.5, 0.5) order=0 tf=5200900810152100670)\n",
      "-> found global scale 1.0 at path {5200900810152100670}\n",
      "-> found hack {'size': (200, 200)}\n",
      "\n",
      "--- assets/product/ui/spine/luxiya-skin-qingrenjie/spineluxiyaskin.prefab ---\n",
      "Spine(Luxiya-Skin-Qingrenjie position=(0.0, 0.0) size=(1920, 1080) scale=1.0 anchor=(0.5, 0.5) order=0 tf=-1892681430710608026)\n",
      "-> found global scale 1.0 at path {-1892681430710608026}\n",
      "-> found hack {'size': (1518, 856)}\n",
      "\n",
      "--- assets/product/ui/spine/luxiya-skin-qingrenjie/spineluxiyaskin_autowindow.prefab ---\n",
      "Spine(Luxiya-Skin-spine position=(0.0, 0.0) size=None scale=1.0 anchor=(0.5, 0.5) order=0 tf=5623030858551743531)\n",
      "-> found global scale 1.0 at path {3274409046327949106}\n",
      "-> found hack {'size': (1518, 856)}\n",
      "\n",
      "--- assets/product/ui/spine/luxiya-skin-qingrenjie/spineluxiyaskin_cg.prefab ---\n",
      "Spine(Luxiya-Skin-Qingrenjie position=(0.0, 0.0) size=(1920, 1080) scale=1.2999999523162842 anchor=(0.5, 0.5) order=0 tf=6712134383592338095)\n",
      "-> found global scale 1.2999999523162842 at path {6712134383592338095}\n",
      "-> found hack {'size': (1518, 856)}\n",
      "\n",
      "--- assets/product/ui/spine/luxiya-skin-qingrenjie/spineluxiyaskin_shiwan.prefab ---\n",
      "Spine(Luxiya-Skin-Qingrenjie position=(-250.0, -140.0) size=(1920, 1080) scale=1.7000000476837158 anchor=(0.5, 0.5) order=0 tf=-1044243543781717614)\n",
      "-> found global scale 1.7000000476837158 at path {-1044243543781717614}\n",
      "-> found hack {'size': (1518, 856)}\n",
      "\n",
      "--- assets/product/ui/spine/luxiya-coupletgame/spine-luxiya-coupletgame.prefab ---\n",
      "Spine(Spine-Luxiya-CoupletGame position=(0.0, 0.0) size=(1920, 1080) scale=1.0 anchor=(0.5, 0.5) order=0 tf=2278989775241438644)\n",
      "-> found global scale 1.0 at path {2278989775241438644}\n",
      "\n",
      "--- assets/product/ui/spine/sailika/sailika.prefab ---\n",
      "Spine(Sailika position=(0.0, 0.0) size=None scale=1.0 anchor=(0.5, 0.5) order=0 tf=7991181479664182571)\n",
      "-> found global scale 1.0 at path {7991181479664182571}\n",
      "-> found hack {'size': (1520, 6340)}\n",
      "\n",
      "--- assets/product/ui/spine/qu-skin/spinequskin_autowindow.prefab ---\n",
      "Spine(SpinequSkin_AutoWindow position=(13.0, -22.0) size=None scale=0.25999999046325684 anchor=(0.5, 0.5) order=0 tf=5453205316231138817)\n",
      "-> found global scale 1.0 at path {-4647717293731054329}\n",
      "-> found hack {'size': (1518, 856)}\n",
      "\n",
      "--- assets/product/ui/spine/main13_spine_luna/main13_spine_luna.prefab ---\n",
      "Spine(Main13_Spine_Luna position=(0.0, 0.0) size=(1920, 1080) scale=1.0 anchor=(0.5, 0.5) order=0 tf=-4464946414028453206)\n",
      "-> found global scale 1.0 at path {-4464946414028453206}\n",
      "-> found hack {'all_scale': 0.65}\n",
      "\n",
      "--- assets/product/ui/spine/main13_spine_luciya/main13_spine_luciya.prefab ---\n"
     ]
    },
    {
     "ename": "KeyboardInterrupt",
     "evalue": "",
     "output_type": "error",
     "traceback": [
      "\u001B[0;31m---------------------------------------------------------------------------\u001B[0m",
      "\u001B[0;31mKeyboardInterrupt\u001B[0m                         Traceback (most recent call last)",
      "Cell \u001B[0;32mIn[7], line 4\u001B[0m\n\u001B[1;32m      2\u001B[0m \u001B[38;5;28;01mfor\u001B[39;00m k,v  \u001B[38;5;129;01min\u001B[39;00m all_prefabs\u001B[38;5;241m.\u001B[39mitems():\n\u001B[1;32m      3\u001B[0m     \u001B[38;5;28mprint\u001B[39m(\u001B[38;5;124mf\u001B[39m\u001B[38;5;124m\"\u001B[39m\u001B[38;5;124m--- \u001B[39m\u001B[38;5;132;01m{\u001B[39;00mk\u001B[38;5;132;01m}\u001B[39;00m\u001B[38;5;124m ---\u001B[39m\u001B[38;5;124m\"\u001B[39m)\n\u001B[0;32m----> 4\u001B[0m     \u001B[43mextract_spine\u001B[49m\u001B[43m(\u001B[49m\u001B[43mk\u001B[49m\u001B[43m,\u001B[49m\u001B[43m \u001B[49m\u001B[43mv\u001B[49m\u001B[38;5;241;43m.\u001B[39;49m\u001B[43mread\u001B[49m\u001B[43m(\u001B[49m\u001B[43m)\u001B[49m\u001B[43m,\u001B[49m\u001B[43m \u001B[49m\u001B[38;5;124;43m'\u001B[39;49m\u001B[38;5;124;43moutput\u001B[39;49m\u001B[38;5;124;43m'\u001B[39;49m\u001B[43m)\u001B[49m\n\u001B[1;32m      5\u001B[0m     \u001B[38;5;28mprint\u001B[39m()\n",
      "File \u001B[0;32m~/Projects/Novalis/PGR/pgr-assets/extractors/spine/extractor.py:216\u001B[0m, in \u001B[0;36mextract_spine\u001B[0;34m(prefab_path, obj, output_dir, write_json)\u001B[0m\n\u001B[1;32m    214\u001B[0m name \u001B[38;5;241m=\u001B[39m prefab_path\u001B[38;5;241m.\u001B[39mremoveprefix(\u001B[38;5;124m'\u001B[39m\u001B[38;5;124massets/product/ui/spine/\u001B[39m\u001B[38;5;124m'\u001B[39m)\u001B[38;5;241m.\u001B[39mremovesuffix(\u001B[38;5;124m'\u001B[39m\u001B[38;5;124m.prefab\u001B[39m\u001B[38;5;124m'\u001B[39m)\n\u001B[1;32m    215\u001B[0m spine \u001B[38;5;241m=\u001B[39m Spine(name)\n\u001B[0;32m--> 216\u001B[0m \u001B[43mcrawl\u001B[49m\u001B[43m(\u001B[49m\u001B[43mobj\u001B[49m\u001B[43m,\u001B[49m\u001B[43m \u001B[49m\u001B[43mspine\u001B[49m\u001B[43m)\u001B[49m\n\u001B[1;32m    218\u001B[0m global_scale, gs_pid \u001B[38;5;241m=\u001B[39m check_global_scale(obj)\n\u001B[1;32m    219\u001B[0m \u001B[38;5;28;01mif\u001B[39;00m gs_pid \u001B[38;5;129;01mis\u001B[39;00m \u001B[38;5;129;01mnot\u001B[39;00m \u001B[38;5;28;01mNone\u001B[39;00m:\n",
      "File \u001B[0;32m~/Projects/Novalis/PGR/pgr-assets/extractors/spine/extractor.py:82\u001B[0m, in \u001B[0;36mcrawl\u001B[0;34m(obj, spine, seen)\u001B[0m\n\u001B[1;32m     79\u001B[0m     v \u001B[38;5;241m=\u001B[39m \u001B[38;5;28;01mNone\u001B[39;00m\n\u001B[1;32m     81\u001B[0m \u001B[38;5;28;01mif\u001B[39;00m \u001B[38;5;28misinstance\u001B[39m(v, (\u001B[38;5;28mlist\u001B[39m, \u001B[38;5;28mtuple\u001B[39m)):\n\u001B[0;32m---> 82\u001B[0m     v \u001B[38;5;241m=\u001B[39m [\u001B[43mcrawl\u001B[49m\u001B[43m(\u001B[49m\u001B[43msubv\u001B[49m\u001B[43m,\u001B[49m\u001B[43m \u001B[49m\u001B[43mspine\u001B[49m\u001B[43m,\u001B[49m\u001B[43m \u001B[49m\u001B[43mseen\u001B[49m\u001B[43m)\u001B[49m \u001B[38;5;28;01mfor\u001B[39;00m subv \u001B[38;5;129;01min\u001B[39;00m flatten(v)]\n\u001B[1;32m     83\u001B[0m \u001B[38;5;28;01melif\u001B[39;00m \u001B[38;5;28misinstance\u001B[39m(v, \u001B[38;5;28mdict\u001B[39m):\n\u001B[1;32m     84\u001B[0m     v \u001B[38;5;241m=\u001B[39m {subk: crawl(subv, spine, seen) \u001B[38;5;28;01mfor\u001B[39;00m subk, subv \u001B[38;5;129;01min\u001B[39;00m v\u001B[38;5;241m.\u001B[39mitems()}\n",
      "File \u001B[0;32m~/Projects/Novalis/PGR/pgr-assets/extractors/spine/extractor.py:69\u001B[0m, in \u001B[0;36mcrawl\u001B[0;34m(obj, spine, seen)\u001B[0m\n\u001B[1;32m     64\u001B[0m         spine\u001B[38;5;241m.\u001B[39mfound_size \u001B[38;5;241m=\u001B[39m (\u001B[38;5;28mround\u001B[39m(obj\u001B[38;5;241m.\u001B[39mDesignWidth), \u001B[38;5;28mround\u001B[39m(obj\u001B[38;5;241m.\u001B[39mDesignHeight))\n\u001B[1;32m     66\u001B[0m \u001B[38;5;28;01mif\u001B[39;00m \u001B[38;5;28misinstance\u001B[39m(obj, classes\u001B[38;5;241m.\u001B[39mComponentPair):\n\u001B[1;32m     67\u001B[0m     \u001B[38;5;28;01mreturn\u001B[39;00m {\n\u001B[1;32m     68\u001B[0m         \u001B[38;5;124m'\u001B[39m\u001B[38;5;124m__type\u001B[39m\u001B[38;5;124m'\u001B[39m: \u001B[38;5;28mtype\u001B[39m(obj)\u001B[38;5;241m.\u001B[39m\u001B[38;5;18m__name__\u001B[39m,\n\u001B[0;32m---> 69\u001B[0m         \u001B[38;5;124m'\u001B[39m\u001B[38;5;124mcomponent\u001B[39m\u001B[38;5;124m'\u001B[39m: \u001B[43mcrawl\u001B[49m\u001B[43m(\u001B[49m\u001B[43mobj\u001B[49m\u001B[38;5;241;43m.\u001B[39;49m\u001B[43mcomponent\u001B[49m\u001B[43m,\u001B[49m\u001B[43m \u001B[49m\u001B[43mspine\u001B[49m\u001B[43m,\u001B[49m\u001B[43m \u001B[49m\u001B[43mseen\u001B[49m\u001B[43m)\u001B[49m\n\u001B[1;32m     70\u001B[0m     }\n\u001B[1;32m     71\u001B[0m \u001B[38;5;28;01melif\u001B[39;00m \u001B[38;5;28misinstance\u001B[39m(obj, classes\u001B[38;5;241m.\u001B[39mObject):\n\u001B[1;32m     72\u001B[0m     ret \u001B[38;5;241m=\u001B[39m {\n\u001B[1;32m     73\u001B[0m         \u001B[38;5;124m'\u001B[39m\u001B[38;5;124m__type\u001B[39m\u001B[38;5;124m'\u001B[39m: \u001B[38;5;28mtype\u001B[39m(obj)\u001B[38;5;241m.\u001B[39m\u001B[38;5;18m__name__\u001B[39m,\n\u001B[1;32m     74\u001B[0m     }\n",
      "File \u001B[0;32m~/Projects/Novalis/PGR/pgr-assets/extractors/spine/extractor.py:86\u001B[0m, in \u001B[0;36mcrawl\u001B[0;34m(obj, spine, seen)\u001B[0m\n\u001B[1;32m     83\u001B[0m         \u001B[38;5;28;01melif\u001B[39;00m \u001B[38;5;28misinstance\u001B[39m(v, \u001B[38;5;28mdict\u001B[39m):\n\u001B[1;32m     84\u001B[0m             v \u001B[38;5;241m=\u001B[39m {subk: crawl(subv, spine, seen) \u001B[38;5;28;01mfor\u001B[39;00m subk, subv \u001B[38;5;129;01min\u001B[39;00m v\u001B[38;5;241m.\u001B[39mitems()}\n\u001B[0;32m---> 86\u001B[0m         ret[k] \u001B[38;5;241m=\u001B[39m \u001B[43mcrawl\u001B[49m\u001B[43m(\u001B[49m\u001B[43mv\u001B[49m\u001B[43m,\u001B[49m\u001B[43m \u001B[49m\u001B[43mspine\u001B[49m\u001B[43m,\u001B[49m\u001B[43m \u001B[49m\u001B[43mseen\u001B[49m\u001B[43m)\u001B[49m\n\u001B[1;32m     87\u001B[0m     \u001B[38;5;28;01mreturn\u001B[39;00m ret\n\u001B[1;32m     89\u001B[0m \u001B[38;5;28;01melif\u001B[39;00m \u001B[38;5;28misinstance\u001B[39m(obj, classes\u001B[38;5;241m.\u001B[39mVector2f):\n",
      "File \u001B[0;32m~/Projects/Novalis/PGR/pgr-assets/extractors/spine/extractor.py:82\u001B[0m, in \u001B[0;36mcrawl\u001B[0;34m(obj, spine, seen)\u001B[0m\n\u001B[1;32m     79\u001B[0m     v \u001B[38;5;241m=\u001B[39m \u001B[38;5;28;01mNone\u001B[39;00m\n\u001B[1;32m     81\u001B[0m \u001B[38;5;28;01mif\u001B[39;00m \u001B[38;5;28misinstance\u001B[39m(v, (\u001B[38;5;28mlist\u001B[39m, \u001B[38;5;28mtuple\u001B[39m)):\n\u001B[0;32m---> 82\u001B[0m     v \u001B[38;5;241m=\u001B[39m [\u001B[43mcrawl\u001B[49m\u001B[43m(\u001B[49m\u001B[43msubv\u001B[49m\u001B[43m,\u001B[49m\u001B[43m \u001B[49m\u001B[43mspine\u001B[49m\u001B[43m,\u001B[49m\u001B[43m \u001B[49m\u001B[43mseen\u001B[49m\u001B[43m)\u001B[49m \u001B[38;5;28;01mfor\u001B[39;00m subv \u001B[38;5;129;01min\u001B[39;00m flatten(v)]\n\u001B[1;32m     83\u001B[0m \u001B[38;5;28;01melif\u001B[39;00m \u001B[38;5;28misinstance\u001B[39m(v, \u001B[38;5;28mdict\u001B[39m):\n\u001B[1;32m     84\u001B[0m     v \u001B[38;5;241m=\u001B[39m {subk: crawl(subv, spine, seen) \u001B[38;5;28;01mfor\u001B[39;00m subk, subv \u001B[38;5;129;01min\u001B[39;00m v\u001B[38;5;241m.\u001B[39mitems()}\n",
      "File \u001B[0;32m~/Projects/Novalis/PGR/pgr-assets/extractors/spine/extractor.py:69\u001B[0m, in \u001B[0;36mcrawl\u001B[0;34m(obj, spine, seen)\u001B[0m\n\u001B[1;32m     64\u001B[0m         spine\u001B[38;5;241m.\u001B[39mfound_size \u001B[38;5;241m=\u001B[39m (\u001B[38;5;28mround\u001B[39m(obj\u001B[38;5;241m.\u001B[39mDesignWidth), \u001B[38;5;28mround\u001B[39m(obj\u001B[38;5;241m.\u001B[39mDesignHeight))\n\u001B[1;32m     66\u001B[0m \u001B[38;5;28;01mif\u001B[39;00m \u001B[38;5;28misinstance\u001B[39m(obj, classes\u001B[38;5;241m.\u001B[39mComponentPair):\n\u001B[1;32m     67\u001B[0m     \u001B[38;5;28;01mreturn\u001B[39;00m {\n\u001B[1;32m     68\u001B[0m         \u001B[38;5;124m'\u001B[39m\u001B[38;5;124m__type\u001B[39m\u001B[38;5;124m'\u001B[39m: \u001B[38;5;28mtype\u001B[39m(obj)\u001B[38;5;241m.\u001B[39m\u001B[38;5;18m__name__\u001B[39m,\n\u001B[0;32m---> 69\u001B[0m         \u001B[38;5;124m'\u001B[39m\u001B[38;5;124mcomponent\u001B[39m\u001B[38;5;124m'\u001B[39m: \u001B[43mcrawl\u001B[49m\u001B[43m(\u001B[49m\u001B[43mobj\u001B[49m\u001B[38;5;241;43m.\u001B[39;49m\u001B[43mcomponent\u001B[49m\u001B[43m,\u001B[49m\u001B[43m \u001B[49m\u001B[43mspine\u001B[49m\u001B[43m,\u001B[49m\u001B[43m \u001B[49m\u001B[43mseen\u001B[49m\u001B[43m)\u001B[49m\n\u001B[1;32m     70\u001B[0m     }\n\u001B[1;32m     71\u001B[0m \u001B[38;5;28;01melif\u001B[39;00m \u001B[38;5;28misinstance\u001B[39m(obj, classes\u001B[38;5;241m.\u001B[39mObject):\n\u001B[1;32m     72\u001B[0m     ret \u001B[38;5;241m=\u001B[39m {\n\u001B[1;32m     73\u001B[0m         \u001B[38;5;124m'\u001B[39m\u001B[38;5;124m__type\u001B[39m\u001B[38;5;124m'\u001B[39m: \u001B[38;5;28mtype\u001B[39m(obj)\u001B[38;5;241m.\u001B[39m\u001B[38;5;18m__name__\u001B[39m,\n\u001B[1;32m     74\u001B[0m     }\n",
      "File \u001B[0;32m~/Projects/Novalis/PGR/pgr-assets/extractors/spine/extractor.py:54\u001B[0m, in \u001B[0;36mcrawl\u001B[0;34m(obj, spine, seen)\u001B[0m\n\u001B[1;32m     52\u001B[0m     go \u001B[38;5;241m=\u001B[39m obj\u001B[38;5;241m.\u001B[39mm_GameObject\u001B[38;5;241m.\u001B[39mread()\n\u001B[1;32m     53\u001B[0m     \u001B[38;5;28;01mif\u001B[39;00m go\u001B[38;5;241m.\u001B[39mm_IsActive:\n\u001B[0;32m---> 54\u001B[0m         spine\u001B[38;5;241m.\u001B[39mspines\u001B[38;5;241m.\u001B[39mappend(\u001B[43mhandle_skeleton\u001B[49m\u001B[43m(\u001B[49m\u001B[43mgo\u001B[49m\u001B[43m)\u001B[49m)\n\u001B[1;32m     55\u001B[0m \u001B[38;5;28;01melif\u001B[39;00m script\u001B[38;5;241m.\u001B[39mm_ClassName \u001B[38;5;241m==\u001B[39m \u001B[38;5;124m'\u001B[39m\u001B[38;5;124mBoneFollowerGraphic\u001B[39m\u001B[38;5;124m'\u001B[39m:\n\u001B[1;32m     56\u001B[0m     follower \u001B[38;5;241m=\u001B[39m handle_bone_follower(obj)\n",
      "File \u001B[0;32m~/Projects/Novalis/PGR/pgr-assets/extractors/spine/extractor.py:137\u001B[0m, in \u001B[0;36mhandle_skeleton\u001B[0;34m(skeleton_object)\u001B[0m\n\u001B[1;32m    135\u001B[0m spine\u001B[38;5;241m.\u001B[39matlas \u001B[38;5;241m=\u001B[39m atlas_asset\u001B[38;5;241m.\u001B[39matlasFile\u001B[38;5;241m.\u001B[39mread()\u001B[38;5;241m.\u001B[39mm_Script\n\u001B[1;32m    136\u001B[0m \u001B[38;5;28;01mfor\u001B[39;00m mat \u001B[38;5;129;01min\u001B[39;00m atlas_asset\u001B[38;5;241m.\u001B[39mmaterials:\n\u001B[0;32m--> 137\u001B[0m     tex \u001B[38;5;241m=\u001B[39m \u001B[43mtexture_from_material\u001B[49m\u001B[43m(\u001B[49m\u001B[43mmat\u001B[49m\u001B[38;5;241;43m.\u001B[39;49m\u001B[43mread\u001B[49m\u001B[43m(\u001B[49m\u001B[43m)\u001B[49m\u001B[43m)\u001B[49m\n\u001B[1;32m    138\u001B[0m     \u001B[38;5;28;01mif\u001B[39;00m tex \u001B[38;5;129;01mis\u001B[39;00m \u001B[38;5;129;01mnot\u001B[39;00m \u001B[38;5;28;01mNone\u001B[39;00m:\n\u001B[1;32m    139\u001B[0m         spine\u001B[38;5;241m.\u001B[39mtextures\u001B[38;5;241m.\u001B[39mappend(tex)\n",
      "File \u001B[0;32m~/Projects/Novalis/PGR/pgr-assets/extractors/spine/extractor.py:16\u001B[0m, in \u001B[0;36mtexture_from_material\u001B[0;34m(mat)\u001B[0m\n\u001B[1;32m     14\u001B[0m             \u001B[38;5;28;01mreturn\u001B[39;00m \u001B[38;5;28;01mNone\u001B[39;00m\n\u001B[1;32m     15\u001B[0m         t \u001B[38;5;241m=\u001B[39m tex_env\u001B[38;5;241m.\u001B[39mm_Texture\u001B[38;5;241m.\u001B[39mread()\n\u001B[0;32m---> 16\u001B[0m         \u001B[38;5;28;01mreturn\u001B[39;00m t\u001B[38;5;241m.\u001B[39mm_Name, \u001B[43mt\u001B[49m\u001B[38;5;241;43m.\u001B[39;49m\u001B[43mimage\u001B[49m\n\u001B[1;32m     17\u001B[0m \u001B[38;5;28;01mreturn\u001B[39;00m \u001B[38;5;28;01mNone\u001B[39;00m\n",
      "File \u001B[0;32m~/Projects/Novalis/PGR/pgr-assets/.venv/lib/python3.13/site-packages/UnityPy/classes/legacy_patch/Texture2D.py:11\u001B[0m, in \u001B[0;36m_Texture2d_get_image\u001B[0;34m(self)\u001B[0m\n\u001B[1;32m      8\u001B[0m \u001B[38;5;28;01mdef\u001B[39;00m\u001B[38;5;250m \u001B[39m\u001B[38;5;21m_Texture2d_get_image\u001B[39m(\u001B[38;5;28mself\u001B[39m: Texture2D):\n\u001B[1;32m      9\u001B[0m     \u001B[38;5;28;01mfrom\u001B[39;00m\u001B[38;5;250m \u001B[39m\u001B[38;5;21;01m.\u001B[39;00m\u001B[38;5;21;01m.\u001B[39;00m\u001B[38;5;21;01m.\u001B[39;00m\u001B[38;5;21;01mexport\u001B[39;00m\u001B[38;5;250m \u001B[39m\u001B[38;5;28;01mimport\u001B[39;00m Texture2DConverter\n\u001B[0;32m---> 11\u001B[0m     \u001B[38;5;28;01mreturn\u001B[39;00m \u001B[43mTexture2DConverter\u001B[49m\u001B[38;5;241;43m.\u001B[39;49m\u001B[43mget_image_from_texture2d\u001B[49m\u001B[43m(\u001B[49m\u001B[38;5;28;43mself\u001B[39;49m\u001B[43m)\u001B[49m\n",
      "File \u001B[0;32m~/Projects/Novalis/PGR/pgr-assets/.venv/lib/python3.13/site-packages/UnityPy/export/Texture2DConverter.py:150\u001B[0m, in \u001B[0;36mget_image_from_texture2d\u001B[0;34m(texture_2d, flip)\u001B[0m\n\u001B[1;32m    137\u001B[0m \u001B[38;5;28;01mdef\u001B[39;00m\u001B[38;5;250m \u001B[39m\u001B[38;5;21mget_image_from_texture2d\u001B[39m(\n\u001B[1;32m    138\u001B[0m     texture_2d: Texture2D,\n\u001B[1;32m    139\u001B[0m     flip: \u001B[38;5;28mbool\u001B[39m \u001B[38;5;241m=\u001B[39m \u001B[38;5;28;01mTrue\u001B[39;00m,\n\u001B[1;32m    140\u001B[0m ) \u001B[38;5;241m-\u001B[39m\u001B[38;5;241m>\u001B[39m Image\u001B[38;5;241m.\u001B[39mImage:\n\u001B[1;32m    141\u001B[0m \u001B[38;5;250m    \u001B[39m\u001B[38;5;124;03m\"\"\"converts the given texture into PIL.Image\u001B[39;00m\n\u001B[1;32m    142\u001B[0m \n\u001B[1;32m    143\u001B[0m \u001B[38;5;124;03m    :param texture_2d: texture to be converterd\u001B[39;00m\n\u001B[0;32m   (...)\u001B[0m\n\u001B[1;32m    148\u001B[0m \u001B[38;5;124;03m    :rtype: Image\u001B[39;00m\n\u001B[1;32m    149\u001B[0m \u001B[38;5;124;03m    \"\"\"\u001B[39;00m\n\u001B[0;32m--> 150\u001B[0m     \u001B[38;5;28;01mreturn\u001B[39;00m \u001B[43mparse_image_data\u001B[49m\u001B[43m(\u001B[49m\n\u001B[1;32m    151\u001B[0m \u001B[43m        \u001B[49m\u001B[43mtexture_2d\u001B[49m\u001B[38;5;241;43m.\u001B[39;49m\u001B[43mget_image_data\u001B[49m\u001B[43m(\u001B[49m\u001B[43m)\u001B[49m\u001B[43m,\u001B[49m\n\u001B[1;32m    152\u001B[0m \u001B[43m        \u001B[49m\u001B[43mtexture_2d\u001B[49m\u001B[38;5;241;43m.\u001B[39;49m\u001B[43mm_Width\u001B[49m\u001B[43m,\u001B[49m\n\u001B[1;32m    153\u001B[0m \u001B[43m        \u001B[49m\u001B[43mtexture_2d\u001B[49m\u001B[38;5;241;43m.\u001B[39;49m\u001B[43mm_Height\u001B[49m\u001B[43m,\u001B[49m\n\u001B[1;32m    154\u001B[0m \u001B[43m        \u001B[49m\u001B[43mtexture_2d\u001B[49m\u001B[38;5;241;43m.\u001B[39;49m\u001B[43mm_TextureFormat\u001B[49m\u001B[43m,\u001B[49m\n\u001B[1;32m    155\u001B[0m \u001B[43m        \u001B[49m\u001B[43mtexture_2d\u001B[49m\u001B[38;5;241;43m.\u001B[39;49m\u001B[43mobject_reader\u001B[49m\u001B[38;5;241;43m.\u001B[39;49m\u001B[43mversion\u001B[49m\u001B[43m,\u001B[49m\n\u001B[1;32m    156\u001B[0m \u001B[43m        \u001B[49m\u001B[43mtexture_2d\u001B[49m\u001B[38;5;241;43m.\u001B[39;49m\u001B[43mobject_reader\u001B[49m\u001B[38;5;241;43m.\u001B[39;49m\u001B[43mplatform\u001B[49m\u001B[43m,\u001B[49m\n\u001B[1;32m    157\u001B[0m \u001B[43m        \u001B[49m\u001B[38;5;28;43mgetattr\u001B[39;49m\u001B[43m(\u001B[49m\u001B[43mtexture_2d\u001B[49m\u001B[43m,\u001B[49m\u001B[43m \u001B[49m\u001B[38;5;124;43m\"\u001B[39;49m\u001B[38;5;124;43mm_PlatformBlob\u001B[39;49m\u001B[38;5;124;43m\"\u001B[39;49m\u001B[43m,\u001B[49m\u001B[43m \u001B[49m\u001B[38;5;28;43;01mNone\u001B[39;49;00m\u001B[43m)\u001B[49m\u001B[43m,\u001B[49m\n\u001B[1;32m    158\u001B[0m \u001B[43m        \u001B[49m\u001B[43mflip\u001B[49m\u001B[43m,\u001B[49m\n\u001B[1;32m    159\u001B[0m \u001B[43m    \u001B[49m\u001B[43m)\u001B[49m\n",
      "File \u001B[0;32m~/Projects/Novalis/PGR/pgr-assets/.venv/lib/python3.13/site-packages/UnityPy/export/Texture2DConverter.py:212\u001B[0m, in \u001B[0;36mparse_image_data\u001B[0;34m(image_data, width, height, texture_format, version, platform, platform_blob, flip)\u001B[0m\n\u001B[1;32m    209\u001B[0m img \u001B[38;5;241m=\u001B[39m selection[\u001B[38;5;241m0\u001B[39m](image_data, width, height, \u001B[38;5;241m*\u001B[39mselection[\u001B[38;5;241m1\u001B[39m:])\n\u001B[1;32m    211\u001B[0m \u001B[38;5;28;01mif\u001B[39;00m img \u001B[38;5;129;01mand\u001B[39;00m flip:\n\u001B[0;32m--> 212\u001B[0m     \u001B[38;5;28;01mreturn\u001B[39;00m \u001B[43mimg\u001B[49m\u001B[38;5;241;43m.\u001B[39;49m\u001B[43mtranspose\u001B[49m\u001B[43m(\u001B[49m\u001B[43mImage\u001B[49m\u001B[38;5;241;43m.\u001B[39;49m\u001B[43mFLIP_TOP_BOTTOM\u001B[49m\u001B[43m)\u001B[49m\n\u001B[1;32m    214\u001B[0m \u001B[38;5;28;01mreturn\u001B[39;00m img\n",
      "File \u001B[0;32m~/Projects/Novalis/PGR/pgr-assets/.venv/lib/python3.13/site-packages/PIL/Image.py:2994\u001B[0m, in \u001B[0;36mImage.transpose\u001B[0;34m(self, method)\u001B[0m\n\u001B[1;32m   2983\u001B[0m \u001B[38;5;250m\u001B[39m\u001B[38;5;124;03m\"\"\"\u001B[39;00m\n\u001B[1;32m   2984\u001B[0m \u001B[38;5;124;03mTranspose image (flip or rotate in 90 degree steps)\u001B[39;00m\n\u001B[1;32m   2985\u001B[0m \n\u001B[0;32m   (...)\u001B[0m\n\u001B[1;32m   2990\u001B[0m \u001B[38;5;124;03m:returns: Returns a flipped or rotated copy of this image.\u001B[39;00m\n\u001B[1;32m   2991\u001B[0m \u001B[38;5;124;03m\"\"\"\u001B[39;00m\n\u001B[1;32m   2993\u001B[0m \u001B[38;5;28mself\u001B[39m\u001B[38;5;241m.\u001B[39mload()\n\u001B[0;32m-> 2994\u001B[0m \u001B[38;5;28;01mreturn\u001B[39;00m \u001B[38;5;28mself\u001B[39m\u001B[38;5;241m.\u001B[39m_new(\u001B[38;5;28;43mself\u001B[39;49m\u001B[38;5;241;43m.\u001B[39;49m\u001B[43mim\u001B[49m\u001B[38;5;241;43m.\u001B[39;49m\u001B[43mtranspose\u001B[49m\u001B[43m(\u001B[49m\u001B[43mmethod\u001B[49m\u001B[43m)\u001B[49m)\n",
      "\u001B[0;31mKeyboardInterrupt\u001B[0m: "
     ]
    }
   ],
   "execution_count": 7
  }
 ],
 "metadata": {
  "kernelspec": {
   "display_name": "Python 3",
   "language": "python",
   "name": "python3"
  },
  "language_info": {
   "codemirror_mode": {
    "name": "ipython",
    "version": 2
   },
   "file_extension": ".py",
   "mimetype": "text/x-python",
   "name": "python",
   "nbconvert_exporter": "python",
   "pygments_lexer": "ipython2",
   "version": "2.7.6"
  }
 },
 "nbformat": 4,
 "nbformat_minor": 5
}
